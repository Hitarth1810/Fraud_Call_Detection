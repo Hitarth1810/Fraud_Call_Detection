{
 "cells": [
  {
   "cell_type": "code",
   "execution_count": 4,
   "metadata": {},
   "outputs": [
    {
     "name": "stdout",
     "output_type": "stream",
     "text": [
      "Requirement already satisfied: numpy in c:\\users\\hp\\onedrive\\desktop\\nit surat\\projects\\fraud_call_detection\\.venv\\lib\\site-packages (2.3.1)\n",
      "Requirement already satisfied: pandas in c:\\users\\hp\\onedrive\\desktop\\nit surat\\projects\\fraud_call_detection\\.venv\\lib\\site-packages (2.3.1)\n",
      "Collecting matplotlib\n",
      "  Using cached matplotlib-3.10.3-cp312-cp312-win_amd64.whl.metadata (11 kB)\n",
      "Collecting seaborn\n",
      "  Using cached seaborn-0.13.2-py3-none-any.whl.metadata (5.4 kB)\n",
      "Requirement already satisfied: scikit-learn in c:\\users\\hp\\onedrive\\desktop\\nit surat\\projects\\fraud_call_detection\\.venv\\lib\\site-packages (1.7.0)\n",
      "Requirement already satisfied: python-dateutil>=2.8.2 in c:\\users\\hp\\onedrive\\desktop\\nit surat\\projects\\fraud_call_detection\\.venv\\lib\\site-packages (from pandas) (2.9.0.post0)\n",
      "Requirement already satisfied: pytz>=2020.1 in c:\\users\\hp\\onedrive\\desktop\\nit surat\\projects\\fraud_call_detection\\.venv\\lib\\site-packages (from pandas) (2025.2)\n",
      "Requirement already satisfied: tzdata>=2022.7 in c:\\users\\hp\\onedrive\\desktop\\nit surat\\projects\\fraud_call_detection\\.venv\\lib\\site-packages (from pandas) (2025.2)\n",
      "Requirement already satisfied: contourpy>=1.0.1 in c:\\users\\hp\\onedrive\\desktop\\nit surat\\projects\\fraud_call_detection\\.venv\\lib\\site-packages (from matplotlib) (1.3.2)\n",
      "Requirement already satisfied: cycler>=0.10 in c:\\users\\hp\\onedrive\\desktop\\nit surat\\projects\\fraud_call_detection\\.venv\\lib\\site-packages (from matplotlib) (0.12.1)\n",
      "Requirement already satisfied: fonttools>=4.22.0 in c:\\users\\hp\\onedrive\\desktop\\nit surat\\projects\\fraud_call_detection\\.venv\\lib\\site-packages (from matplotlib) (4.58.5)\n",
      "Requirement already satisfied: kiwisolver>=1.3.1 in c:\\users\\hp\\onedrive\\desktop\\nit surat\\projects\\fraud_call_detection\\.venv\\lib\\site-packages (from matplotlib) (1.4.8)\n",
      "Requirement already satisfied: packaging>=20.0 in c:\\users\\hp\\onedrive\\desktop\\nit surat\\projects\\fraud_call_detection\\.venv\\lib\\site-packages (from matplotlib) (25.0)\n",
      "Requirement already satisfied: pillow>=8 in c:\\users\\hp\\onedrive\\desktop\\nit surat\\projects\\fraud_call_detection\\.venv\\lib\\site-packages (from matplotlib) (11.3.0)\n",
      "Requirement already satisfied: pyparsing>=2.3.1 in c:\\users\\hp\\onedrive\\desktop\\nit surat\\projects\\fraud_call_detection\\.venv\\lib\\site-packages (from matplotlib) (3.2.3)\n",
      "Requirement already satisfied: scipy>=1.8.0 in c:\\users\\hp\\onedrive\\desktop\\nit surat\\projects\\fraud_call_detection\\.venv\\lib\\site-packages (from scikit-learn) (1.16.0)\n",
      "Requirement already satisfied: joblib>=1.2.0 in c:\\users\\hp\\onedrive\\desktop\\nit surat\\projects\\fraud_call_detection\\.venv\\lib\\site-packages (from scikit-learn) (1.5.1)\n",
      "Requirement already satisfied: threadpoolctl>=3.1.0 in c:\\users\\hp\\onedrive\\desktop\\nit surat\\projects\\fraud_call_detection\\.venv\\lib\\site-packages (from scikit-learn) (3.6.0)\n",
      "Requirement already satisfied: six>=1.5 in c:\\users\\hp\\onedrive\\desktop\\nit surat\\projects\\fraud_call_detection\\.venv\\lib\\site-packages (from python-dateutil>=2.8.2->pandas) (1.17.0)\n",
      "Using cached matplotlib-3.10.3-cp312-cp312-win_amd64.whl (8.1 MB)\n",
      "Using cached seaborn-0.13.2-py3-none-any.whl (294 kB)\n",
      "Installing collected packages: matplotlib, seaborn\n",
      "\n",
      "   ---------------------------------------- 0/2 [matplotlib]\n",
      "   ---------------------------------------- 0/2 [matplotlib]\n",
      "   ---------------------------------------- 0/2 [matplotlib]\n",
      "   ---------------------------------------- 0/2 [matplotlib]\n",
      "   ---------------------------------------- 0/2 [matplotlib]\n",
      "   ---------------------------------------- 0/2 [matplotlib]\n",
      "   ---------------------------------------- 0/2 [matplotlib]\n",
      "   ---------------------------------------- 0/2 [matplotlib]\n",
      "   ---------------------------------------- 0/2 [matplotlib]\n",
      "   ---------------------------------------- 0/2 [matplotlib]\n",
      "   ---------------------------------------- 0/2 [matplotlib]\n",
      "   ---------------------------------------- 0/2 [matplotlib]\n",
      "   ---------------------------------------- 0/2 [matplotlib]\n",
      "   ---------------------------------------- 0/2 [matplotlib]\n",
      "   ---------------------------------------- 0/2 [matplotlib]\n",
      "   ---------------------------------------- 0/2 [matplotlib]\n",
      "   ---------------------------------------- 0/2 [matplotlib]\n",
      "   ---------------------------------------- 0/2 [matplotlib]\n",
      "   ---------------------------------------- 0/2 [matplotlib]\n",
      "   ---------------------------------------- 0/2 [matplotlib]\n",
      "   ---------------------------------------- 0/2 [matplotlib]\n",
      "   ---------------------------------------- 0/2 [matplotlib]\n",
      "   ---------------------------------------- 0/2 [matplotlib]\n",
      "   ---------------------------------------- 0/2 [matplotlib]\n",
      "   ---------------------------------------- 0/2 [matplotlib]\n",
      "   ---------------------------------------- 0/2 [matplotlib]\n",
      "   ---------------------------------------- 0/2 [matplotlib]\n",
      "   ---------------------------------------- 0/2 [matplotlib]\n",
      "   ---------------------------------------- 0/2 [matplotlib]\n",
      "   ---------------------------------------- 0/2 [matplotlib]\n",
      "   ---------------------------------------- 0/2 [matplotlib]\n",
      "   ---------------------------------------- 0/2 [matplotlib]\n",
      "   ---------------------------------------- 0/2 [matplotlib]\n",
      "   ---------------------------------------- 0/2 [matplotlib]\n",
      "   ---------------------------------------- 0/2 [matplotlib]\n",
      "   ---------------------------------------- 0/2 [matplotlib]\n",
      "   ---------------------------------------- 0/2 [matplotlib]\n",
      "   ---------------------------------------- 0/2 [matplotlib]\n",
      "   ---------------------------------------- 0/2 [matplotlib]\n",
      "   ---------------------------------------- 0/2 [matplotlib]\n",
      "   ---------------------------------------- 0/2 [matplotlib]\n",
      "   ---------------------------------------- 0/2 [matplotlib]\n",
      "   ---------------------------------------- 0/2 [matplotlib]\n",
      "   ---------------------------------------- 0/2 [matplotlib]\n",
      "   ---------------------------------------- 0/2 [matplotlib]\n",
      "   ---------------------------------------- 0/2 [matplotlib]\n",
      "   ---------------------------------------- 0/2 [matplotlib]\n",
      "   ---------------------------------------- 0/2 [matplotlib]\n",
      "   ---------------------------------------- 0/2 [matplotlib]\n",
      "   ---------------------------------------- 0/2 [matplotlib]\n",
      "   ---------------------------------------- 0/2 [matplotlib]\n",
      "   ---------------------------------------- 0/2 [matplotlib]\n",
      "   ---------------------------------------- 0/2 [matplotlib]\n",
      "   ---------------------------------------- 0/2 [matplotlib]\n",
      "   ---------------------------------------- 0/2 [matplotlib]\n",
      "   ---------------------------------------- 0/2 [matplotlib]\n",
      "   ---------------------------------------- 0/2 [matplotlib]\n",
      "   ---------------------------------------- 0/2 [matplotlib]\n",
      "   ---------------------------------------- 0/2 [matplotlib]\n",
      "   ---------------------------------------- 0/2 [matplotlib]\n",
      "   ---------------------------------------- 0/2 [matplotlib]\n",
      "   ---------------------------------------- 0/2 [matplotlib]\n",
      "   -------------------- ------------------- 1/2 [seaborn]\n",
      "   -------------------- ------------------- 1/2 [seaborn]\n",
      "   -------------------- ------------------- 1/2 [seaborn]\n",
      "   -------------------- ------------------- 1/2 [seaborn]\n",
      "   -------------------- ------------------- 1/2 [seaborn]\n",
      "   -------------------- ------------------- 1/2 [seaborn]\n",
      "   -------------------- ------------------- 1/2 [seaborn]\n",
      "   ---------------------------------------- 2/2 [seaborn]\n",
      "\n",
      "Successfully installed matplotlib-3.10.3 seaborn-0.13.2\n",
      "Note: you may need to restart the kernel to use updated packages.\n"
     ]
    }
   ],
   "source": [
    "%pip install numpy pandas matplotlib seaborn scikit-learn"
   ]
  },
  {
   "cell_type": "code",
   "execution_count": 1,
   "metadata": {
    "executionInfo": {
     "elapsed": 2458,
     "status": "ok",
     "timestamp": 1738254127631,
     "user": {
      "displayName": "Harshvardhan Gupta",
      "userId": "10328168051463798203"
     },
     "user_tz": -330
    },
    "id": "7rtY54-ocJjp"
   },
   "outputs": [],
   "source": [
    "# importing all necessary libraries\n",
    "\n",
    "#basic libraries\n",
    "import numpy as np\n",
    "import pandas as pd\n",
    "import csv\n",
    "import matplotlib.pyplot as plt\n",
    "\n",
    "#for dataset processing and encoding\n",
    "from sklearn.model_selection import train_test_split\n",
    "from sklearn.feature_extraction.text import TfidfVectorizer\n",
    "\n",
    "# for training\n",
    "from sklearn.linear_model import LogisticRegression\n",
    "\n",
    "# for metric score\n",
    "from sklearn.metrics import accuracy_score\n",
    "\n",
    "\n",
    "import pickle"
   ]
  },
  {
   "cell_type": "code",
   "execution_count": null,
   "metadata": {
    "executionInfo": {
     "elapsed": 402,
     "status": "ok",
     "timestamp": 1738254270433,
     "user": {
      "displayName": "Harshvardhan Gupta",
      "userId": "10328168051463798203"
     },
     "user_tz": -330
    },
    "id": "vUVnBho3cZRw"
   },
   "outputs": [],
   "source": [
    "# Data preprocessing\n",
    "\n",
    "file_path = r'main_dataset_fcd.txt'\n",
    "df = pd.read_csv(file_path, sep='\\t', names=['type','clue'], on_bad_lines='skip')\n",
    "df = df[df['type'].isin(['normal', 'fraud'])]\n",
    "df = df.sample(frac=1, random_state=42)"
   ]
  },
  {
   "cell_type": "code",
   "execution_count": 3,
   "metadata": {
    "colab": {
     "base_uri": "https://localhost:8080/",
     "height": 178
    },
    "executionInfo": {
     "elapsed": 430,
     "status": "ok",
     "timestamp": 1738254273117,
     "user": {
      "displayName": "Harshvardhan Gupta",
      "userId": "10328168051463798203"
     },
     "user_tz": -330
    },
    "id": "EOKVGSpt_iS2",
    "outputId": "64632b1e-7dfa-4cd9-bfb5-0014d2cff1d6"
   },
   "outputs": [
    {
     "data": {
      "text/plain": [
       "type\n",
       "normal    5441\n",
       "fraud      848\n",
       "Name: count, dtype: int64"
      ]
     },
     "execution_count": 3,
     "metadata": {},
     "output_type": "execute_result"
    }
   ],
   "source": [
    "df['type'].value_counts()\n"
   ]
  },
  {
   "cell_type": "code",
   "execution_count": 4,
   "metadata": {},
   "outputs": [
    {
     "data": {
      "text/html": [
       "<div>\n",
       "<style scoped>\n",
       "    .dataframe tbody tr th:only-of-type {\n",
       "        vertical-align: middle;\n",
       "    }\n",
       "\n",
       "    .dataframe tbody tr th {\n",
       "        vertical-align: top;\n",
       "    }\n",
       "\n",
       "    .dataframe thead th {\n",
       "        text-align: right;\n",
       "    }\n",
       "</style>\n",
       "<table border=\"1\" class=\"dataframe\">\n",
       "  <thead>\n",
       "    <tr style=\"text-align: right;\">\n",
       "      <th></th>\n",
       "      <th>type</th>\n",
       "      <th>clue</th>\n",
       "    </tr>\n",
       "  </thead>\n",
       "  <tbody>\n",
       "    <tr>\n",
       "      <th>4441</th>\n",
       "      <td>normal</td>\n",
       "      <td>Ok i wont call or disturb any one. I know all ...</td>\n",
       "    </tr>\n",
       "    <tr>\n",
       "      <th>3658</th>\n",
       "      <td>normal</td>\n",
       "      <td>Hurry home u big butt. Hang up on your last ca...</td>\n",
       "    </tr>\n",
       "    <tr>\n",
       "      <th>6069</th>\n",
       "      <td>normal</td>\n",
       "      <td>hello, are you free for a call?</td>\n",
       "    </tr>\n",
       "    <tr>\n",
       "      <th>5043</th>\n",
       "      <td>fraud</td>\n",
       "      <td>Hi babe its Chloe, how r u? I was smashed on s...</td>\n",
       "    </tr>\n",
       "    <tr>\n",
       "      <th>1539</th>\n",
       "      <td>normal</td>\n",
       "      <td>Sorry that took so long.</td>\n",
       "    </tr>\n",
       "  </tbody>\n",
       "</table>\n",
       "</div>"
      ],
      "text/plain": [
       "        type                                               clue\n",
       "4441  normal  Ok i wont call or disturb any one. I know all ...\n",
       "3658  normal  Hurry home u big butt. Hang up on your last ca...\n",
       "6069  normal                  hello, are you free for a call?  \n",
       "5043   fraud  Hi babe its Chloe, how r u? I was smashed on s...\n",
       "1539  normal                           Sorry that took so long."
      ]
     },
     "execution_count": 4,
     "metadata": {},
     "output_type": "execute_result"
    }
   ],
   "source": [
    "df.head()"
   ]
  },
  {
   "cell_type": "code",
   "execution_count": 11,
   "metadata": {},
   "outputs": [
    {
     "data": {
      "text/plain": [
       "<Axes: xlabel='type'>"
      ]
     },
     "execution_count": 11,
     "metadata": {},
     "output_type": "execute_result"
    },
    {
     "data": {
      "image/png": "[encoded data removed]",
      "text/plain": [
       "<Figure size 640x480 with 1 Axes>"
      ]
     },
     "metadata": {},
     "output_type": "display_data"
    }
   ],
   "source": [
    "import seaborn as sns\n",
    "# sns.countplot(x='type', data=df)\n",
    "df['type'].value_counts().plot(kind='bar')"
   ]
  },
  {
   "cell_type": "code",
   "execution_count": 5,
   "metadata": {
    "colab": {
     "base_uri": "https://localhost:8080/",
     "height": 489
    },
    "executionInfo": {
     "elapsed": 497,
     "status": "ok",
     "timestamp": 1738220398703,
     "user": {
      "displayName": "Hitarth Shah",
      "userId": "18131423035616282836"
     },
     "user_tz": -330
    },
    "id": "2c95WKj4dBCH",
    "outputId": "c366e7f3-9c9f-4fd1-eaca-d2ffcd893fa5"
   },
   "outputs": [
    {
     "data": {
      "text/plain": [
       "Text(0, 0.5, 'count')"
      ]
     },
     "execution_count": 5,
     "metadata": {},
     "output_type": "execute_result"
    },
    {
     "data": {
      "image/png": "[encoded data removed]",
      "text/plain": [
       "<Figure size 640x480 with 1 Axes>"
      ]
     },
     "metadata": {},
     "output_type": "display_data"
    }
   ],
   "source": [
    "# Data Viewing\n",
    "\n",
    "plt.hist(df['type'],color = 'r')\n",
    "plt.title(\"Bar plot\")\n",
    "plt.xlabel(\"fraud calls vs normal calls\")\n",
    "plt.ylabel(\"count\")"
   ]
  },
  {
   "cell_type": "code",
   "execution_count": 9,
   "metadata": {
    "executionInfo": {
     "elapsed": 435,
     "status": "ok",
     "timestamp": 1738254481378,
     "user": {
      "displayName": "Harshvardhan Gupta",
      "userId": "10328168051463798203"
     },
     "user_tz": -330
    },
    "id": "U9Bv5GXYdK78"
   },
   "outputs": [
    {
     "name": "stderr",
     "output_type": "stream",
     "text": [
      "C:\\Users\\hp\\AppData\\Local\\Temp\\ipykernel_20464\\1002647449.py:2: FutureWarning: A value is trying to be set on a copy of a DataFrame or Series through chained assignment using an inplace method.\n",
      "The behavior will change in pandas 3.0. This inplace method will never work because the intermediate object on which we are setting values always behaves as a copy.\n",
      "\n",
      "For example, when doing 'df[col].method(value, inplace=True)', try using 'df.method({col: value}, inplace=True)' or df[col] = df[col].method(value) instead, to perform the operation inplace on the original object.\n",
      "\n",
      "\n",
      "  df['type'].replace([\"fraud\",\"normal\"],[1,0],inplace=True)\n",
      "C:\\Users\\hp\\AppData\\Local\\Temp\\ipykernel_20464\\1002647449.py:2: FutureWarning: Downcasting behavior in `replace` is deprecated and will be removed in a future version. To retain the old behavior, explicitly call `result.infer_objects(copy=False)`. To opt-in to the future behavior, set `pd.set_option('future.no_silent_downcasting', True)`\n",
      "  df['type'].replace([\"fraud\",\"normal\"],[1,0],inplace=True)\n"
     ]
    }
   ],
   "source": [
    "# Label Encoding\n",
    "df['type'].replace([\"fraud\",\"normal\"],[1,0],inplace=True)\n",
    "\n",
    "# Using Vectorizer for better word encoding\n",
    "vectorizer = TfidfVectorizer(max_features=5000)\n",
    "X = vectorizer.fit_transform(df['clue'])\n",
    "Y = df['type']"
   ]
  },
  {
   "cell_type": "code",
   "execution_count": 10,
   "metadata": {
    "executionInfo": {
     "elapsed": 430,
     "status": "ok",
     "timestamp": 1738254504291,
     "user": {
      "displayName": "Harshvardhan Gupta",
      "userId": "10328168051463798203"
     },
     "user_tz": -330
    },
    "id": "ry1zwAwSCpXa"
   },
   "outputs": [],
   "source": [
    "#Split the data into training and testing sets\n",
    "X_train, X_test, Y_train, Y_test = train_test_split(X, Y, test_size=0.2, random_state=42)"
   ]
  },
  {
   "cell_type": "code",
   "execution_count": 11,
   "metadata": {
    "colab": {
     "base_uri": "https://localhost:8080/"
    },
    "executionInfo": {
     "elapsed": 435,
     "status": "ok",
     "timestamp": 1738254648733,
     "user": {
      "displayName": "Harshvardhan Gupta",
      "userId": "10328168051463798203"
     },
     "user_tz": -330
    },
    "id": "D0OHGV5dCujP",
    "outputId": "e991d405-f6f1-452e-fbb9-3c68496bc926"
   },
   "outputs": [
    {
     "name": "stdout",
     "output_type": "stream",
     "text": [
      "Accuracy: 98.41017488076311 %\n"
     ]
    }
   ],
   "source": [
    "# Training Model\n",
    "model = LogisticRegression(C=10)\n",
    "model.fit(X_train, Y_train)\n",
    "\n",
    "#Evaluating the model\n",
    "y_pred = model.predict(X_test)\n",
    "accuracy = accuracy_score(Y_test, y_pred)\n",
    "print(\"Accuracy:\", accuracy*100, \"%\")"
   ]
  },
  {
   "cell_type": "code",
   "execution_count": 12,
   "metadata": {
    "executionInfo": {
     "elapsed": 1702,
     "status": "ok",
     "timestamp": 1738257563226,
     "user": {
      "displayName": "Harshvardhan Gupta",
      "userId": "10328168051463798203"
     },
     "user_tz": -330
    },
    "id": "BwnjJP83rV04"
   },
   "outputs": [],
   "source": [
    "# Saving Model\n",
    "with open(r'C:\\Users\\hp\\OneDrive\\Desktop\\NIT SURAT\\PROJECTS\\Fraud_Call_Detection\\trained_model.pkl', 'wb') as file:\n",
    "    pickle.dump(model, file)\n",
    "\n",
    "#Saving Vectorizer\n",
    "with open(r'C:\\Users\\hp\\OneDrive\\Desktop\\NIT SURAT\\PROJECTS\\Fraud_Call_Detection\\vectorizer.pkl', 'wb') as file:\n",
    "    pickle.dump(vectorizer, file)"
   ]
  },
  {
   "cell_type": "code",
   "execution_count": 23,
   "metadata": {
    "colab": {
     "base_uri": "https://localhost:8080/"
    },
    "executionInfo": {
     "elapsed": 414,
     "status": "ok",
     "timestamp": 1738255035205,
     "user": {
      "displayName": "Harshvardhan Gupta",
      "userId": "10328168051463798203"
     },
     "user_tz": -330
    },
    "id": "4ouEyJ20DXX6",
    "outputId": "72dc2a20-aed0-4cd9-ded1-af3a31874818"
   },
   "outputs": [
    {
     "name": "stdout",
     "output_type": "stream",
     "text": [
      "Prediction: Fraudulent call\n"
     ]
    }
   ],
   "source": [
    "# Testing\n",
    "\n",
    "with open(r'C:\\Users\\hp\\OneDrive\\Desktop\\NIT SURAT\\PROJECTS\\Fraud_Call_Detection\\trained_model.pkl', 'rb') as file:\n",
    "    model = pickle.load(file)\n",
    "\n",
    "text=\"Hello sir, im calling from the bank, please send us the otp that is on mobile number.\"\n",
    "\n",
    "text_to_predict = vectorizer.transform([text])\n",
    "prediction = model.predict(text_to_predict)\n",
    "if prediction[0] == 1:\n",
    "    print(\"Prediction: Fraudulent call\")\n",
    "else:\n",
    "    print(\"Prediction: Normal call\")"
   ]
  },
  {
   "cell_type": "code",
   "execution_count": 21,
   "metadata": {
    "id": "X9SpFuU_DnCp"
   },
   "outputs": [],
   "source": [
    "# THE END OF THE MODEL TRAINING PART"
   ]
  },
  {
   "cell_type": "code",
   "execution_count": null,
   "metadata": {},
   "outputs": [],
   "source": []
  }
 ],
 "metadata": {
  "colab": {
   "provenance": []
  },
  "kernelspec": {
   "display_name": ".venv",
   "language": "python",
   "name": "python3"
  },
  "language_info": {
   "codemirror_mode": {
    "name": "ipython",
    "version": 3
   },
   "file_extension": ".py",
   "mimetype": "text/x-python",
   "name": "python",
   "nbconvert_exporter": "python",
   "pygments_lexer": "ipython3",
   "version": "3.12.5"
  }
 },
 "nbformat": 4,
 "nbformat_minor": 0
}
